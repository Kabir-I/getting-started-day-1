{
 "cells": [
  {
   "cell_type": "code",
   "execution_count": 1,
   "id": "4380c88e",
   "metadata": {},
   "outputs": [
    {
     "name": "stdout",
     "output_type": "stream",
     "text": [
      "12\n",
      "3\n",
      "351\n",
      "16.833333333333332\n"
     ]
    }
   ],
   "source": [
    "\n",
    "   \n",
    "import math\n",
    "def divide(x,y):\n",
    "    return x/y\n",
    "def multiply(x,y):\n",
    "    return x*y\n",
    "def add(x,y):\n",
    "    return x+y\n",
    "def subtract(x,y):\n",
    "    return x-y\n",
    "\n",
    "num1 = 10\n",
    "num2 = 2\n",
    "num3 = 17\n",
    "num4 = 14\n",
    "num5 = 9\n",
    "num6 = 39\n",
    "num7 = 101\n",
    "num8 = 6\n",
    "\n",
    "print(add(num1, num2))\n",
    "print(subtract(num3, num4))\n",
    "print(multiply(num5, num6))\n",
    "print(divide(num7, num8))\n"
   ]
  },
  {
   "cell_type": "code",
   "execution_count": 2,
   "id": "1848fdea",
   "metadata": {},
   "outputs": [
    {
     "name": "stdout",
     "output_type": "stream",
     "text": [
      "Hello Kabir! How are you?\n",
      "I recommend Rhea for the job!\n",
      "I really want to visit India one day!\n",
      "One day, I will have a pet dog!\n"
     ]
    }
   ],
   "source": [
    "name1 = 'Kabir'\n",
    "name2 = 'Rhea'\n",
    "country = 'India'\n",
    "pet = 'dog'\n",
    "def greet(x):\n",
    "    return x\n",
    "print(greet('Hello ' + name1 + '! How are you?'))\n",
    "print(greet('I recommend ' + name2 + ' for the job!'))\n",
    "print(greet('I really want to visit ' + country + ' one day!'))\n",
    "print(greet('One day, I will have a pet ' + pet + '!'))\n"
   ]
  },
  {
   "cell_type": "code",
   "execution_count": null,
   "id": "c5dfd4cf",
   "metadata": {},
   "outputs": [],
   "source": []
  }
 ],
 "metadata": {
  "kernelspec": {
   "display_name": "Python 3 (ipykernel)",
   "language": "python",
   "name": "python3"
  },
  "language_info": {
   "codemirror_mode": {
    "name": "ipython",
    "version": 3
   },
   "file_extension": ".py",
   "mimetype": "text/x-python",
   "name": "python",
   "nbconvert_exporter": "python",
   "pygments_lexer": "ipython3",
   "version": "3.9.12"
  }
 },
 "nbformat": 4,
 "nbformat_minor": 5
}
